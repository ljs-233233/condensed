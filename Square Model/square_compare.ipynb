{
 "cells": [
  {
   "cell_type": "markdown",
   "id": "43be20cc-3a0f-4ce0-b8e9-bb8ee1f1533b",
   "metadata": {},
   "source": [
    "# Square Model\n",
    "Comparison between two square model implementations (using Sx, Sy, Sz vs S+/-, Sz)"
   ]
  },
  {
   "cell_type": "code",
   "execution_count": null,
   "id": "ca069bf5-dc29-4d54-9456-444d9fa93507",
   "metadata": {},
   "outputs": [],
   "source": []
  },
  {
   "cell_type": "code",
   "execution_count": null,
   "id": "e2044c53-1887-47a1-b371-3e9436036522",
   "metadata": {},
   "outputs": [],
   "source": []
  },
  {
   "cell_type": "code",
   "execution_count": null,
   "id": "33e99ab2-26d4-4eb3-8863-de9338aa3f39",
   "metadata": {},
   "outputs": [],
   "source": []
  },
  {
   "cell_type": "code",
   "execution_count": null,
   "id": "43ed5f75-1eef-4c1c-af3e-f9c8b619e1a4",
   "metadata": {},
   "outputs": [],
   "source": []
  },
  {
   "cell_type": "code",
   "execution_count": null,
   "id": "7b41770e-1978-42c7-93d2-46bc4e039fd6",
   "metadata": {},
   "outputs": [],
   "source": []
  },
  {
   "cell_type": "code",
   "execution_count": null,
   "id": "e9ba69e4-0df8-45ab-9bfb-51a2248daaec",
   "metadata": {},
   "outputs": [],
   "source": []
  }
 ],
 "metadata": {
  "kernelspec": {
   "display_name": "Python 3 (ipykernel)",
   "language": "python",
   "name": "python3"
  },
  "language_info": {
   "codemirror_mode": {
    "name": "ipython",
    "version": 3
   },
   "file_extension": ".py",
   "mimetype": "text/x-python",
   "name": "python",
   "nbconvert_exporter": "python",
   "pygments_lexer": "ipython3",
   "version": "3.12.7"
  }
 },
 "nbformat": 4,
 "nbformat_minor": 5
}
